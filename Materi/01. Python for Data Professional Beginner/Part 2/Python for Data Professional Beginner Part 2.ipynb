{
  "nbformat": 4,
  "nbformat_minor": 0,
  "metadata": {
    "colab": {
      "name": "Python for Data Professional Beginner Part 2.ipynb",
      "provenance": [],
      "collapsed_sections": []
    },
    "kernelspec": {
      "name": "python3",
      "display_name": "Python 3"
    },
    "language_info": {
      "name": "python"
    }
  },
  "cells": [
    {
      "cell_type": "markdown",
      "metadata": {
        "id": "NrSui9CnKGP6"
      },
      "source": [
        "**Mengakses List dan Tuple**"
      ]
    },
    {
      "cell_type": "code",
      "metadata": {
        "colab": {
          "base_uri": "https://localhost:8080/"
        },
        "id": "webomHzOIxgH",
        "outputId": "85a4f1da-7b8e-4746-bb36-d6af4b3f77a5"
      },
      "source": [
        "bulan_pembelian = ('Januari', 'Februari', 'Maret', 'April', 'Mei', 'Juni', 'Juli', 'Agustus', 'September', 'Oktober', 'November', 'Desember')\n",
        "print(bulan_pembelian[0])\n",
        "print(bulan_pembelian[5])\n",
        "print(bulan_pembelian[-1])\n",
        "print(bulan_pembelian[-2])"
      ],
      "execution_count": 1,
      "outputs": [
        {
          "output_type": "stream",
          "text": [
            "Januari\n",
            "Juni\n",
            "Desember\n",
            "November\n"
          ],
          "name": "stdout"
        }
      ]
    },
    {
      "cell_type": "code",
      "metadata": {
        "colab": {
          "base_uri": "https://localhost:8080/"
        },
        "id": "LcwVQcNmKODS",
        "outputId": "aaf2d02f-52f0-4e8d-aaff-8ee98d3ef4f7"
      },
      "source": [
        "bulan_pembelian = ('Januari', 'Februari', 'Maret', 'April', 'Mei', 'Juni', 'Juli', 'Agustus', 'September', 'Oktober', 'November', 'Desember')\n",
        "pertengahan_tahun = bulan_pembelian[4:8]\n",
        "print(pertengahan_tahun)\n",
        "awal_tahun = bulan_pembelian[:5]\n",
        "print(awal_tahun)\n",
        "akhir_tahun = bulan_pembelian[8:]\n",
        "print(akhir_tahun)\n",
        "print(bulan_pembelian[-4:-1])"
      ],
      "execution_count": 2,
      "outputs": [
        {
          "output_type": "stream",
          "text": [
            "('Mei', 'Juni', 'Juli', 'Agustus')\n",
            "('Januari', 'Februari', 'Maret', 'April', 'Mei')\n",
            "('September', 'Oktober', 'November', 'Desember')\n",
            "('September', 'Oktober', 'November')\n"
          ],
          "name": "stdout"
        }
      ]
    },
    {
      "cell_type": "markdown",
      "metadata": {
        "id": "Pk9DYzI5KVlh"
      },
      "source": [
        "**Penggabungan Dua atau Lebih List atau Tuple**"
      ]
    },
    {
      "cell_type": "code",
      "metadata": {
        "colab": {
          "base_uri": "https://localhost:8080/"
        },
        "id": "13Exi3eAKaHU",
        "outputId": "63480f36-7957-4037-ec8d-ac0026f64b09"
      },
      "source": [
        "list_makanan = ['Gado-gado', 'Ayam Goreng', 'Rendang']\n",
        "list_minuman = ['Es Teh', 'Es Jeruk', 'Es Campur']\n",
        "list_menu = list_makanan + list_minuman\n",
        "print(list_menu)"
      ],
      "execution_count": 3,
      "outputs": [
        {
          "output_type": "stream",
          "text": [
            "['Gado-gado', 'Ayam Goreng', 'Rendang', 'Es Teh', 'Es Jeruk', 'Es Campur']\n"
          ],
          "name": "stdout"
        }
      ]
    },
    {
      "cell_type": "markdown",
      "metadata": {
        "id": "8k8xmmTCKXmH"
      },
      "source": [
        "**List Manipulation**"
      ]
    },
    {
      "cell_type": "code",
      "metadata": {
        "colab": {
          "base_uri": "https://localhost:8080/"
        },
        "id": "A2LH7S90KlJM",
        "outputId": "7898a177-99cd-480c-cf27-b654b96b8ed2"
      },
      "source": [
        "# Fitur .append()\n",
        "print(\">>> Fitur .append()\")\n",
        "list_makanan = ['Gado-gado', 'Ayam Goreng', 'Rendang']\n",
        "list_makanan.append('Ketoprak')\n",
        "print(list_makanan)\n",
        "\n",
        "# Fitur .clear()\n",
        "print(\">>> Fitur .clear()\")\n",
        "list_makanan = ['Gado-gado', 'Ayam Goreng', 'Rendang']\n",
        "list_makanan.clear()\n",
        "print(list_makanan)\n",
        "\n",
        "# Fitur .copy()\n",
        "print(\">>> Fitur .copy()\")\n",
        "list_makanan1 = ['Gado-gado', 'Ayam Goreng', 'Rendang']\n",
        "list_makanan2 = list_makanan1.copy()\n",
        "list_makanan3 = list_makanan1\n",
        "list_makanan2.append('Opor')\n",
        "list_makanan3.append('Ketoprak')\n",
        "print(list_makanan1)\n",
        "print(list_makanan2)\n",
        "\n",
        "# Fitur .count()\n",
        "print(\">>> Fitur .count()\")\n",
        "list_score = ['Budi', 'Sud', 'Budi', 'Budi', 'Budi', 'Sud', 'Sud']\n",
        "score_budi = list_score.count('Budi')\n",
        "score_sud = list_score.count('Sud')\n",
        "print(score_budi) # akan menampilkan output 4\n",
        "print(score_sud) # akan menampilkan output 3\n",
        "\n",
        "# Fitur .extend()\n",
        "print(\">>> Fitur .extend()\")\n",
        "list_menu = ['Gado-gado', 'Ayam Goreng', 'Rendang']\n",
        "list_minuman = ['Es Teh', 'Es Jeruk', 'Es Campur']\n",
        "list_menu.extend(list_minuman)\n",
        "print(list_menu)"
      ],
      "execution_count": 4,
      "outputs": [
        {
          "output_type": "stream",
          "text": [
            ">>> Fitur .append()\n",
            "['Gado-gado', 'Ayam Goreng', 'Rendang', 'Ketoprak']\n",
            ">>> Fitur .clear()\n",
            "[]\n",
            ">>> Fitur .copy()\n",
            "['Gado-gado', 'Ayam Goreng', 'Rendang', 'Ketoprak']\n",
            "['Gado-gado', 'Ayam Goreng', 'Rendang', 'Opor']\n",
            ">>> Fitur .count()\n",
            "4\n",
            "3\n",
            ">>> Fitur .extend()\n",
            "['Gado-gado', 'Ayam Goreng', 'Rendang', 'Es Teh', 'Es Jeruk', 'Es Campur']\n"
          ],
          "name": "stdout"
        }
      ]
    },
    {
      "cell_type": "code",
      "metadata": {
        "colab": {
          "base_uri": "https://localhost:8080/"
        },
        "id": "m0ck4cokKv1s",
        "outputId": "fd993b61-f823-41a2-d3e6-a8362d9806ef"
      },
      "source": [
        "# Fitur .index()\n",
        "print(\">>> Fitur .index()\")\n",
        "list_score = ['Budi','Sud','Budi','Budi','Budi','Sud','Sud']\n",
        "score_pertama_sud = list_score.index('Sud') + 1\n",
        "print(score_pertama_sud) # akan menampilkan output 2\n",
        "\n",
        "# Fitur .insert()\n",
        "print(\">>> Fitur .insert()\")\n",
        "list_score = ['Budi','Sud','Budi','Budi','Sud']\n",
        "list_score.insert(3, 'Sud')\n",
        "print(list_score)\n",
        "\n",
        "# Fitur .pop()\n",
        "print(\">>> Fitur .pop()\")\n",
        "list_menu = ['Gado-gado', 'Ayam Goreng', 'Rendang']\n",
        "list_menu.pop(1)\n",
        "print(list_menu)\n",
        "\n",
        "# Fitur .remove()\n",
        "print(\">>> Fitur .remove()\")\n",
        "list_menu = ['Gado-gado', 'Ayam Goreng', 'Rendang', 'Ketoprak']\n",
        "list_menu.remove('Rendang')\n",
        "print(list_menu)\n",
        "\n",
        "# Fitur .reverse()\n",
        "print(\">>> Fitur .reverse()\")\n",
        "list_menu = ['Gado-gado', 'Ayam Goreng', 'Rendang', 'Ketoprak']\n",
        "list_menu.reverse()\n",
        "print(list_menu)\n",
        "\n",
        "# Fitur .sort()\n",
        "print(\">>> Fitur .sort()\")\n",
        "list_menu = ['Gado-gado', 'Ayam Goreng', 'Rendang', 'Ketoprak']\n",
        "list_menu.sort() # Default: Ascending\n",
        "print(list_menu) \n",
        "list_menu.sort(reverse=True)# Descending\n",
        "print(list_menu) "
      ],
      "execution_count": 5,
      "outputs": [
        {
          "output_type": "stream",
          "text": [
            ">>> Fitur .index()\n",
            "2\n",
            ">>> Fitur .insert()\n",
            "['Budi', 'Sud', 'Budi', 'Sud', 'Budi', 'Sud']\n",
            ">>> Fitur .pop()\n",
            "['Gado-gado', 'Rendang']\n",
            ">>> Fitur .remove()\n",
            "['Gado-gado', 'Ayam Goreng', 'Ketoprak']\n",
            ">>> Fitur .reverse()\n",
            "['Ketoprak', 'Rendang', 'Ayam Goreng', 'Gado-gado']\n",
            ">>> Fitur .sort()\n",
            "['Ayam Goreng', 'Gado-gado', 'Ketoprak', 'Rendang']\n",
            "['Rendang', 'Ketoprak', 'Gado-gado', 'Ayam Goreng']\n"
          ],
          "name": "stdout"
        }
      ]
    },
    {
      "cell_type": "markdown",
      "metadata": {
        "id": "G1HMVZ2jK3Oe"
      },
      "source": [
        "**Tuple Manipulation**"
      ]
    },
    {
      "cell_type": "code",
      "metadata": {
        "colab": {
          "base_uri": "https://localhost:8080/"
        },
        "id": "anNI957fK5v8",
        "outputId": "b67ea1c5-3720-4ac0-f3f5-9b6c4aa6a4b5"
      },
      "source": [
        "# Fitur .count()\n",
        "print(\">>> Fitur .count()\")\n",
        "tuple_score = ('Budi', 'Sud', 'Budi', 'Budi', 'Budi', 'Sud', 'Sud')\n",
        "score_budi = tuple_score.count('Budi')\n",
        "score_sud = tuple_score.count('Sud')\n",
        "print(score_budi) # akan menampilkan output 4\n",
        "print(score_sud) # akan menampilkan output 3\n",
        "\n",
        "# Fitur .index()\n",
        "print(\">>> Fitur .index()\")\n",
        "tuple_score = ('Budi','Sud','Budi','Budi','Budi','Sud','Sud')\n",
        "score_pertama_sud = tuple_score.index('Sud')+1\n",
        "print(score_pertama_sud) # akan menampilkan output 2"
      ],
      "execution_count": 6,
      "outputs": [
        {
          "output_type": "stream",
          "text": [
            ">>> Fitur .count()\n",
            "4\n",
            "3\n",
            ">>> Fitur .index()\n",
            "2\n"
          ],
          "name": "stdout"
        }
      ]
    },
    {
      "cell_type": "markdown",
      "metadata": {
        "id": "FK_n0F8yLBO4"
      },
      "source": [
        "**Set Manipulation**"
      ]
    },
    {
      "cell_type": "code",
      "metadata": {
        "colab": {
          "base_uri": "https://localhost:8080/"
        },
        "id": "g1oeFjThLKZJ",
        "outputId": "b5e036e4-13ea-4ade-eb5c-39f2bee73049"
      },
      "source": [
        "# Fitur .add()\n",
        "print(\">>> Fitur .add()\")\n",
        "set_buah = {'Jeruk','Apel','Anggur'}\n",
        "set_buah.add('Melon')\n",
        "print(set_buah)\n",
        "\n",
        "# Fitur .clear()\n",
        "print(\">>> Fitur .clear()\")\n",
        "set_buah = {'Jeruk','Apel','Anggur'}\n",
        "set_buah.clear()\n",
        "print(set_buah)\n",
        "\n",
        "# Fitur .copy()\n",
        "print(\">>> Fitur .copy()\")\n",
        "set_buah1 = {'Jeruk','Apel','Anggur'}\n",
        "set_buah2 = set_buah1\n",
        "set_buah3 = set_buah1.copy()\n",
        "set_buah2.add('Melon')\n",
        "set_buah3.add('Kiwi')\n",
        "print(set_buah1)\n",
        "print(set_buah2)\n",
        "\n",
        "# Fitur .update()\n",
        "print(\">>> Fitur .update()\")\n",
        "parcel1 = {'Anggur','Apel','Jeruk'}\n",
        "parcel2 = {'Apel','Kiwi','Melon'}\n",
        "parcel1.update(parcel2)\n",
        "print(parcel1)\n",
        "\n",
        "# Fitur .pop()\n",
        "print(\">>> Fitur .pop()\")\n",
        "parcel = {'Anggur','Apel','Jeruk'}\n",
        "buah = parcel.pop()\n",
        "print(buah)\n",
        "print(parcel)\n",
        "\n",
        "# Fitur .remove()\n",
        "print(\">>> Fitur .remove()\")\n",
        "parcel = {'Anggur','Apel','Jeruk'}\n",
        "parcel.remove('Apel')\n",
        "print(parcel)"
      ],
      "execution_count": 7,
      "outputs": [
        {
          "output_type": "stream",
          "text": [
            ">>> Fitur .add()\n",
            "{'Jeruk', 'Melon', 'Anggur', 'Apel'}\n",
            ">>> Fitur .clear()\n",
            "set()\n",
            ">>> Fitur .copy()\n",
            "{'Jeruk', 'Melon', 'Anggur', 'Apel'}\n",
            "{'Jeruk', 'Melon', 'Anggur', 'Apel'}\n",
            ">>> Fitur .update()\n",
            "{'Melon', 'Anggur', 'Jeruk', 'Kiwi', 'Apel'}\n",
            ">>> Fitur .pop()\n",
            "Jeruk\n",
            "{'Anggur', 'Apel'}\n",
            ">>> Fitur .remove()\n",
            "{'Jeruk', 'Anggur'}\n"
          ],
          "name": "stdout"
        }
      ]
    },
    {
      "cell_type": "code",
      "metadata": {
        "colab": {
          "base_uri": "https://localhost:8080/"
        },
        "id": "tFyeyoNPLQ-m",
        "outputId": "e5b3ceca-5dee-4234-afb9-8f66801d10fa"
      },
      "source": [
        "# Fitur .union()\n",
        "print(\">>> Fitur .union()\")\n",
        "parcel1 = {'Anggur','Apel','Jeruk'}\n",
        "parcel2 = {'Apel','Kiwi','Melon'}\n",
        "parcel3 = parcel1.union(parcel2)\n",
        "print(parcel1)\n",
        "print(parcel3)\n",
        "\n",
        "# Fitur .isdisjoint()\n",
        "print(\">>> Fitur .isdisjoint()\")\n",
        "parcel1 = {'Anggur','Apel','Jeruk'}\n",
        "parcel2 = {'Kiwi','Melon','Pisang'}\n",
        "parcel3 = {'Apel','Srikaya','Semangka'}\n",
        "parcel1_parcel2_disjoint = parcel1.isdisjoint(parcel2)\n",
        "print(parcel1_parcel2_disjoint)\n",
        "parcel1_parcel3_disjoint = parcel1.isdisjoint(parcel3)\n",
        "print(parcel1_parcel3_disjoint)\n",
        "\n",
        "# Fitur .issubset()\n",
        "print(\">>> Fitur .issubset()\")\n",
        "parcel_A = {'Anggur', 'Apel'}\n",
        "parcel_B = {'Durian','Semangka','Apel'}\n",
        "parcel_C = {'Anggur', 'Kiwi', 'Apel', 'Jeruk', 'Melon'}\n",
        "parcel_A_dalam_C = parcel_A.issubset(parcel_C)\n",
        "parcel_B_dalam_C = parcel_B.issubset(parcel_C)\n",
        "print(parcel_A_dalam_C)\n",
        "print(parcel_B_dalam_C)\n",
        "\n",
        "# Fitur .issuperset()\n",
        "print(\">>> Fitur .issuperset()\")\n",
        "parcel_C_mengandung_A = parcel_C.issuperset(parcel_A)\n",
        "parcel_C_mengandung_B = parcel_C.issuperset(parcel_B)\n",
        "print(parcel_C_mengandung_A)\n",
        "print(parcel_C_mengandung_B)\n",
        "\n",
        "# Fitur .intersection()\n",
        "print(\">>> Fitur .intersection()\")\n",
        "parcel_A = {'Anggur', 'Kiwi', 'Apel', 'Jeruk', 'Melon'}\n",
        "parcel_B = {'Apel', 'Jeruk', 'Semangka', 'Durian', 'Tomat'}\n",
        "parcel_C = parcel_A.intersection(parcel_B)\n",
        "print(parcel_C)\n",
        "\n",
        "# Fitur .difference()\n",
        "print(\">>> Fitur .difference()\")\n",
        "parcel_C = parcel_A.difference(parcel_B)\n",
        "print(parcel_C)\n",
        "\n",
        "# Fitur .symmetric_difference()\n",
        "print(\">>> Fitur .symmetric_difference()\")\n",
        "parcel_A = {'Anggur', 'Apel', 'Jeruk', 'Melon'}\n",
        "parcel_B = {'Apel','Jeruk','Semangka','Leci'}\n",
        "parcel_C = parcel_A.symmetric_difference(parcel_B)\n",
        "print(parcel_C)"
      ],
      "execution_count": 8,
      "outputs": [
        {
          "output_type": "stream",
          "text": [
            ">>> Fitur .union()\n",
            "{'Jeruk', 'Anggur', 'Apel'}\n",
            "{'Melon', 'Anggur', 'Jeruk', 'Kiwi', 'Apel'}\n",
            ">>> Fitur .isdisjoint()\n",
            "True\n",
            "False\n",
            ">>> Fitur .issubset()\n",
            "True\n",
            "False\n",
            ">>> Fitur .issuperset()\n",
            "True\n",
            "False\n",
            ">>> Fitur .intersection()\n",
            "{'Jeruk', 'Apel'}\n",
            ">>> Fitur .difference()\n",
            "{'Melon', 'Anggur', 'Kiwi'}\n",
            ">>> Fitur .symmetric_difference()\n",
            "{'Melon', 'Anggur', 'Semangka', 'Leci'}\n"
          ],
          "name": "stdout"
        }
      ]
    },
    {
      "cell_type": "markdown",
      "metadata": {
        "id": "lOE_j34wLJB5"
      },
      "source": [
        "**Dictionary Manipulation**"
      ]
    },
    {
      "cell_type": "code",
      "metadata": {
        "colab": {
          "base_uri": "https://localhost:8080/"
        },
        "id": "IXOQS2mfMH-g",
        "outputId": "091562e3-f830-414e-8e56-c45b81edadd5"
      },
      "source": [
        "# Fitur .clear()\n",
        "print(\">>> Fitur .clear()\")\n",
        "info_karyawan = {'nama' : 'Aksara',\n",
        "                 'nik' : '1211011',\n",
        "                 'pekerjaan' : 'Data Analyst'}\n",
        "info_karyawan.clear()\n",
        "print(info_karyawan)\n",
        "\n",
        "# Fitur .copy()\n",
        "print(\">>> Fitur .copy()\")\n",
        "info_karyawan1 = {'nama' : 'Aksara',\n",
        "                  'nik' : '1211011',\n",
        "                  'pekerjaan' : 'Data Analyst'}\n",
        "info_karyawan2 = info_karyawan1.copy()\n",
        "info_karyawan2['nama'] = 'Senja'\n",
        "info_karyawan2['nik'] = '1211056'\n",
        "print(info_karyawan1)\n",
        "print(info_karyawan2)\n",
        "\n",
        "# Fitur .keys()\n",
        "print(\">>> Fitur .keys()\")\n",
        "info_karyawan = {'nama' : 'Aksara',\n",
        "                 'nik' : '1211011',\n",
        "                 'pekerjaan' : 'Data Analyst'}\n",
        "kunci_akses = list(info_karyawan.keys())\n",
        "print(kunci_akses)\n",
        "\n",
        "# Fitur .values()\n",
        "print(\">>> Fitur .values()\")\n",
        "value_dict = list(info_karyawan.values())\n",
        "print(value_dict)\n",
        "\n",
        "# Fitur .update()\n",
        "print(\">>> Fitur .update()\")\n",
        "info_karyawan.update({'skillset':['Python', 'R']})\n",
        "print(info_karyawan)"
      ],
      "execution_count": 9,
      "outputs": [
        {
          "output_type": "stream",
          "text": [
            ">>> Fitur .clear()\n",
            "{}\n",
            ">>> Fitur .copy()\n",
            "{'nama': 'Aksara', 'nik': '1211011', 'pekerjaan': 'Data Analyst'}\n",
            "{'nama': 'Senja', 'nik': '1211056', 'pekerjaan': 'Data Analyst'}\n",
            ">>> Fitur .keys()\n",
            "['nama', 'nik', 'pekerjaan']\n",
            ">>> Fitur .values()\n",
            "['Aksara', '1211011', 'Data Analyst']\n",
            ">>> Fitur .update()\n",
            "{'nama': 'Aksara', 'nik': '1211011', 'pekerjaan': 'Data Analyst', 'skillset': ['Python', 'R']}\n"
          ],
          "name": "stdout"
        }
      ]
    },
    {
      "cell_type": "markdown",
      "metadata": {
        "id": "7UZyoGpGMHeR"
      },
      "source": [
        "**Useful Tips and Tricks**"
      ]
    },
    {
      "cell_type": "code",
      "metadata": {
        "colab": {
          "base_uri": "https://localhost:8080/"
        },
        "id": "_OU0i77YM9Kn",
        "outputId": "b25a18fe-56e1-4058-ead6-b8c0d3918214"
      },
      "source": [
        "# Tuple\n",
        "print(\">>> Tuple\")\n",
        "tuple_menu = ('Gado-gado','Ayam Goreng','Rendang','Ketoprak')\n",
        "jumlah_menu = len(tuple_menu)\n",
        "print(jumlah_menu)\n",
        "\n",
        "# List\n",
        "print(\">>> List\")\n",
        "list_menu = ['Gado-gado','Ayam Goreng','Rendang','Ketoprak']\n",
        "jumlah_menu = len(list_menu)\n",
        "print(jumlah_menu)\n",
        "\n",
        "# Konversi tipe data\n",
        "print(\">>> Konversi tipe data\")\n",
        "list_buah = ['Apel', 'Apel', 'Jeruk', 'Markisa', 'Jeruk', 'Markisa', 'Apel']\n",
        "set_buah = set(list_buah)\n",
        "print(set_buah)\n",
        "list_buah = list(set_buah)\n",
        "list_buah.sort()\n",
        "print(list_buah)"
      ],
      "execution_count": 10,
      "outputs": [
        {
          "output_type": "stream",
          "text": [
            ">>> Tuple\n",
            "4\n",
            ">>> List\n",
            "4\n",
            ">>> Konversi tipe data\n",
            "{'Jeruk', 'Markisa', 'Apel'}\n",
            "['Apel', 'Jeruk', 'Markisa']\n"
          ],
          "name": "stdout"
        }
      ]
    },
    {
      "cell_type": "markdown",
      "metadata": {
        "id": "Mh0JQp7VNInd"
      },
      "source": [
        "**Tugas Praktek**\n",
        "\n",
        "Menghitung rata-rata pengeluaran dan pemasukanku selama 9 bulan terakhir dari data keuangan"
      ]
    },
    {
      "cell_type": "code",
      "metadata": {
        "colab": {
          "base_uri": "https://localhost:8080/"
        },
        "id": "C2-ULyISNMTE",
        "outputId": "4174bf9d-f56e-4381-e893-cd4338ed64b3"
      },
      "source": [
        "# Data keuangan\n",
        "keuangan = {\n",
        "'pengeluaran': [2, 2.5, 2.25, 2.5, 3.2, 2.5, 3.5, 4, 3],\n",
        "'pemasukan': [7.8, 7.5, 9, 7.6, 7.2, 7.5, 7, 10, 7.5]\n",
        "}\n",
        "\n",
        "# Perhitungan rata-rata pemasukan dan rata-rata pengeluaran\n",
        "total_pengeluaran = 0\n",
        "total_pemasukan = 0\n",
        "for biaya in keuangan['pengeluaran']: \n",
        "    total_pengeluaran += biaya\n",
        "for biaya in keuangan['pemasukan']:\n",
        "\ttotal_pemasukan += biaya\n",
        "rata_rata_pengeluaran = total_pengeluaran/len(keuangan['pengeluaran'])\n",
        "rata_rata_pemasukan = total_pemasukan/len(keuangan['pemasukan'])\n",
        "print(rata_rata_pengeluaran) \n",
        "print(rata_rata_pemasukan)"
      ],
      "execution_count": 11,
      "outputs": [
        {
          "output_type": "stream",
          "text": [
            "2.8277777777777775\n",
            "7.8999999999999995\n"
          ],
          "name": "stdout"
        }
      ]
    },
    {
      "cell_type": "markdown",
      "metadata": {
        "id": "BD8XY8fnQWiW"
      },
      "source": [
        "**String Manipulation**"
      ]
    },
    {
      "cell_type": "code",
      "metadata": {
        "colab": {
          "base_uri": "https://localhost:8080/"
        },
        "id": "7JV2Z5e4QZap",
        "outputId": "d1e47d13-1202-44e0-8f71-e724b836ded8"
      },
      "source": [
        "nama_produk = \"Sepatu Niko\"\n",
        "nama_produk = nama_produk[:2] + \"P\" + nama_produk[3:9] + \"K\" + nama_produk[-1]\n",
        "print(nama_produk)\n",
        "print(nama_produk[:7])\n",
        "print(nama_produk[7:])\n",
        "print(len(nama_produk))"
      ],
      "execution_count": 12,
      "outputs": [
        {
          "output_type": "stream",
          "text": [
            "SePatu NiKo\n",
            "SePatu \n",
            "NiKo\n",
            "11\n"
          ],
          "name": "stdout"
        }
      ]
    },
    {
      "cell_type": "markdown",
      "metadata": {
        "id": "KlLoNQXzQeZi"
      },
      "source": [
        "**Operator “+” untuk Tipe Data String**\n",
        "\n",
        "Operator + juga dapat digunakan untuk menambahkan beberapa string secara  sekaligus."
      ]
    },
    {
      "cell_type": "code",
      "metadata": {
        "colab": {
          "base_uri": "https://localhost:8080/"
        },
        "id": "6GO-cYKBQdWo",
        "outputId": "2615d2ff-5fdb-4a5c-f8d1-2334583fa878"
      },
      "source": [
        "nama_depan = 'John'\n",
        "nama_belakang = 'Doee'\n",
        "nama_lengkap = nama_depan + ' ' + nama_belakang\n",
        "print(nama_lengkap)\n",
        "umur = '27 tahun'\n",
        "alamat = 'Jl. Anggrek No. 100'\n",
        "nama_umur_alamat = 'Hi, saya ' + nama_lengkap + ' umur ' + umur + ', tinggal di ' + alamat + '.'\n",
        "print(nama_umur_alamat)"
      ],
      "execution_count": 13,
      "outputs": [
        {
          "output_type": "stream",
          "text": [
            "John Doee\n",
            "Hi, saya John Doee umur 27 tahun, tinggal di Jl. Anggrek No. 100.\n"
          ],
          "name": "stdout"
        }
      ]
    },
    {
      "cell_type": "markdown",
      "metadata": {
        "id": "2gXB8Sg_QktP"
      },
      "source": [
        "**Menghilangkan Spasi di Awal dan/atau di Akhir**"
      ]
    },
    {
      "cell_type": "code",
      "metadata": {
        "colab": {
          "base_uri": "https://localhost:8080/"
        },
        "id": "IoKFzCULQvjs",
        "outputId": "7706fc6e-c7e4-4ad6-a483-468bfb7e8d8f"
      },
      "source": [
        "# Fitur .strip()\n",
        "print(\">>> Fitur .strip()\")\n",
        "kata_sambutan = ' halo, selamat siang!   '\n",
        "kata_sambutan = kata_sambutan.strip()\n",
        "print(kata_sambutan)\n",
        "\n",
        "# Fitur .lstrip()\n",
        "print(\">>> Fitur .lstrip()\")\n",
        "kata_sambutan = ' halo, selamat siang!   '\n",
        "kata_sambutan = kata_sambutan.lstrip()\n",
        "print(kata_sambutan)\n",
        "\n",
        "# Fitur .rstrip()\n",
        "print(\">>> Fitur .rstrip()\")\n",
        "kata_sambutan = ' halo, selamat siang!   '\n",
        "kata_sambutan = kata_sambutan.rstrip()\n",
        "print(kata_sambutan)"
      ],
      "execution_count": 14,
      "outputs": [
        {
          "output_type": "stream",
          "text": [
            ">>> Fitur .strip()\n",
            "halo, selamat siang!\n",
            ">>> Fitur .lstrip()\n",
            "halo, selamat siang!   \n",
            ">>> Fitur .rstrip()\n",
            " halo, selamat siang!\n"
          ],
          "name": "stdout"
        }
      ]
    },
    {
      "cell_type": "markdown",
      "metadata": {
        "id": "voVvg1Q8Qzp0"
      },
      "source": [
        "**Merubah Caps pada String**"
      ]
    },
    {
      "cell_type": "code",
      "metadata": {
        "colab": {
          "base_uri": "https://localhost:8080/"
        },
        "id": "gvTzd2IHQ6uA",
        "outputId": "1dfebde6-89ae-47fd-99c3-f2d3ff380786"
      },
      "source": [
        "# Fitur .capitalize()\n",
        "print(\">>> Fitur .capitalize()\")\n",
        "judul_buku = 'belajar bahasa Python'\n",
        "print(judul_buku.capitalize())\n",
        "\n",
        "# Fitur .lower()\n",
        "print(\">>> Fitur .lower()\")\n",
        "judul_buku = 'Belajar Bahasa PYTHON.'\n",
        "print(judul_buku.lower())\n",
        "\n",
        "# Fitur .upper()\n",
        "print(\">>> Fitur .upper()\")\n",
        "judul_buku = 'Belajar Bahasa PYTHON.'\n",
        "print(judul_buku.upper())"
      ],
      "execution_count": 15,
      "outputs": [
        {
          "output_type": "stream",
          "text": [
            ">>> Fitur .capitalize()\n",
            "Belajar bahasa python\n",
            ">>> Fitur .lower()\n",
            "belajar bahasa python.\n",
            ">>> Fitur .upper()\n",
            "BELAJAR BAHASA PYTHON.\n"
          ],
          "name": "stdout"
        }
      ]
    },
    {
      "cell_type": "markdown",
      "metadata": {
        "id": "Jmp8XMrtRFkZ"
      },
      "source": [
        "**Pemecahan, Penggabungan, dan Penggantian String**"
      ]
    },
    {
      "cell_type": "code",
      "metadata": {
        "colab": {
          "base_uri": "https://localhost:8080/"
        },
        "id": "LW01GtvCRQ_m",
        "outputId": "979dd065-7d2c-4629-b890-0bc35b70b9a1"
      },
      "source": [
        "# Fitur .split()\n",
        "print(\">>> Fitur .split()\")\n",
        "bilangan = \"ani dan budi dan wati dan johan\"\n",
        "karakter = bilangan.split(\"dan\")\n",
        "print(karakter)\n",
        "kata = bilangan.split(\" \")\n",
        "print(kata)\n",
        "\n",
        "# Fitur .join()\n",
        "print(\">>> Fitur .join()\")\n",
        "pemisah = \" dan \"\n",
        "karakter = [\"Ricky\", \"Peter\", \"Jordan\"]\n",
        "kalimat = pemisah.join(karakter)\n",
        "print(kalimat)\n",
        "\n",
        "# Fitur .replace()\n",
        "print(\">>> Fitur .replace()\")\n",
        "kalimat = \"apel malang apel yang paling segar, apel sehat, apel nikmat\"\n",
        "kalimat = kalimat.replace(\"apel\", \"jeruk\")\n",
        "print(kalimat)"
      ],
      "execution_count": 16,
      "outputs": [
        {
          "output_type": "stream",
          "text": [
            ">>> Fitur .split()\n",
            "['ani ', ' budi ', ' wati ', ' johan']\n",
            "['ani', 'dan', 'budi', 'dan', 'wati', 'dan', 'johan']\n",
            ">>> Fitur .join()\n",
            "Ricky dan Peter dan Jordan\n",
            ">>> Fitur .replace()\n",
            "jeruk malang jeruk yang paling segar, jeruk sehat, jeruk nikmat\n"
          ],
          "name": "stdout"
        }
      ]
    },
    {
      "cell_type": "markdown",
      "metadata": {
        "id": "1wUfLAlrRXvp"
      },
      "source": [
        "**Menentukan Posisi dan Jumlah Sub-string pada String**"
      ]
    },
    {
      "cell_type": "code",
      "metadata": {
        "colab": {
          "base_uri": "https://localhost:8080/"
        },
        "id": "WhH1APhqRbPm",
        "outputId": "486be567-a003-4589-aa13-5a0d6a6fe415"
      },
      "source": [
        "teks = \"Apel malang adalah apel termanis dibanding apel-apel lainnya\"\n",
        "\n",
        "# Fitur .find()\n",
        "print(\">>> Fitur .find()\")\n",
        "print(teks.find(\"Apel\"))\n",
        "print(teks.find(\"malang\"))\n",
        "\n",
        "# Fitur .count()\n",
        "print(\">>> Fitur .count()\")\n",
        "kemunculan_kata_apel = teks.count(\"apel\")\n",
        "print(kemunculan_kata_apel)"
      ],
      "execution_count": 17,
      "outputs": [
        {
          "output_type": "stream",
          "text": [
            ">>> Fitur .find()\n",
            "0\n",
            "5\n",
            ">>> Fitur .count()\n",
            "3\n"
          ],
          "name": "stdout"
        }
      ]
    },
    {
      "cell_type": "markdown",
      "metadata": {
        "id": "yDUf851uRiDc"
      },
      "source": [
        "**Menentukan String Apakah Diawali/Diakhiri oleh Sub-string**"
      ]
    },
    {
      "cell_type": "code",
      "metadata": {
        "colab": {
          "base_uri": "https://localhost:8080/"
        },
        "id": "lQgWP3prRnJ3",
        "outputId": "706be0f1-b60e-4cb0-bbce-432abcd21cf0"
      },
      "source": [
        "# Fitur .startswith()\n",
        "print(\">>> Fitur .startswith()\")\n",
        "teks = \"Apel malang adalah apel termanis dibanding apel-apel lainnya\"\n",
        "print(teks.startswith(\"Apel\"))\n",
        "print(teks.startswith(\"apel\"))\n",
        "\n",
        "# Fitur .endswith()\n",
        "print(\">>> Fitur .endswith()\")\n",
        "print(teks.endswith(\"lainnya\"))\n",
        "print(teks.endswith(\"apel\"))"
      ],
      "execution_count": 18,
      "outputs": [
        {
          "output_type": "stream",
          "text": [
            ">>> Fitur .startswith()\n",
            "True\n",
            "False\n",
            ">>> Fitur .endswith()\n",
            "True\n",
            "False\n"
          ],
          "name": "stdout"
        }
      ]
    },
    {
      "cell_type": "markdown",
      "metadata": {
        "id": "OdV61cJORpY8"
      },
      "source": [
        "**Tugas Praktek**"
      ]
    },
    {
      "cell_type": "code",
      "metadata": {
        "colab": {
          "base_uri": "https://localhost:8080/"
        },
        "id": "QD409EX5Rt5v",
        "outputId": "d2efcfc2-37c8-466a-c9fc-6e178a4c3e1f"
      },
      "source": [
        "judul_artikel = [\n",
        "\"Buah Salak Baik untuk Mata\", \"Buah Salak Kaya Potasium\", \n",
        "\"Buah Jeruk Kaya Vitamin C\", \"Buah Salak Kaya Manfaat\", \n",
        "\"Salak Baik untuk Jantung\", \"Jeruk dapat Memperkuat Tulang\", \n",
        "\"Jeruk Mencegah Penyakit Asma\", \"Jeruk Memperkuat Gigi\", \n",
        "\"Jeruk Mencegah Kolesterol Jahat\", \"Salak Mencegah Diabetes\", \n",
        "\"Salak Memperkuat Dinding Usus\", \"Salak Baik untuk Darah\",\n",
        "\"Jeruk Kaya Manfaat untuk Jantung\", \"Salak si Kecil yang Baik\", \n",
        "\"Jeruk dan Salak Buah Kaya Manfaat\", \"Buah Jeruk Enak\",\n",
        "\"Tips Panen Jeruk Ribuan Kilo\", \"Tips Bertanam Salak\", \n",
        "\"Salak Manis untuk Berbuka\", \"Jeruk Baik untuk Wajah\"\n",
        "]\n",
        "jumlah_artikel_jeruk = 0\n",
        "jumlah_artikel_salak = 0\n",
        "for judul in judul_artikel:\n",
        "    if judul.count(\"Jeruk\") > 0: \n",
        "        jumlah_artikel_jeruk += 1\n",
        "    if judul.count(\"Salak\") > 0:\n",
        "        jumlah_artikel_salak += 1\n",
        "print(jumlah_artikel_jeruk) \n",
        "print(jumlah_artikel_salak)"
      ],
      "execution_count": 19,
      "outputs": [
        {
          "output_type": "stream",
          "text": [
            "10\n",
            "11\n"
          ],
          "name": "stdout"
        }
      ]
    },
    {
      "cell_type": "code",
      "metadata": {
        "colab": {
          "base_uri": "https://localhost:8080/"
        },
        "id": "l9pAenidSTmJ",
        "outputId": "1b765b3b-3fac-413c-93cd-7ba2fdee9fa7"
      },
      "source": [
        "kata_positif = [\"Kaya\", \"Baik\", \"Mencegah\", \"Memperkuat\"]\n",
        "kata_positif_jeruk = 0\n",
        "kata_positif_salak = 0\n",
        "for judul in judul_artikel: \n",
        "    for kata in kata_positif:\n",
        "        if judul.count(\"Jeruk\") > 0 and judul.count(kata)> 0: \n",
        "            kata_positif_jeruk += 1\n",
        "        if judul.count(\"Salak\")> 0 and judul.count(kata)> 0:\n",
        "            kata_positif_salak += 1\n",
        "print(kata_positif_jeruk) \n",
        "print(kata_positif_salak)"
      ],
      "execution_count": 20,
      "outputs": [
        {
          "output_type": "stream",
          "text": [
            "8\n",
            "9\n"
          ],
          "name": "stdout"
        }
      ]
    },
    {
      "cell_type": "markdown",
      "metadata": {
        "id": "5xcehhkBSgIb"
      },
      "source": [
        "**Fungsi**"
      ]
    },
    {
      "cell_type": "code",
      "metadata": {
        "colab": {
          "base_uri": "https://localhost:8080/"
        },
        "id": "fr__r9VtShvr",
        "outputId": "898a8e0f-41c0-42ce-b8b2-255fe8591d46"
      },
      "source": [
        "# Definisikan fungsi\n",
        "def contoh_fungsi():\n",
        "    print(\"Halo Dunia\")\n",
        "    print(\"Aku sedang belajar bahasa Python\")\n",
        "# Panggil fungsi yang telah didefinisikan\n",
        "contoh_fungsi()"
      ],
      "execution_count": 21,
      "outputs": [
        {
          "output_type": "stream",
          "text": [
            "Halo Dunia\n",
            "Aku sedang belajar bahasa Python\n"
          ],
          "name": "stdout"
        }
      ]
    },
    {
      "cell_type": "code",
      "metadata": {
        "colab": {
          "base_uri": "https://localhost:8080/"
        },
        "id": "Wa6tInPBSmWW",
        "outputId": "a9e51d30-3ea4-4957-fae4-23d35f3c8237"
      },
      "source": [
        "# Definsikan fungsi \n",
        "def fungsi_dengan_argumen(nama_depan, nama_belakang):\n",
        "    print(nama_depan+\" \"+nama_belakang)\n",
        "# Panggil fungsi dengan memasukkan argumen\n",
        "# nama_depan yaitu \"John\" dan nama_belakang \"Doe\"\n",
        "fungsi_dengan_argumen(\"John\", \"Doe\")"
      ],
      "execution_count": 22,
      "outputs": [
        {
          "output_type": "stream",
          "text": [
            "John Doe\n"
          ],
          "name": "stdout"
        }
      ]
    },
    {
      "cell_type": "code",
      "metadata": {
        "colab": {
          "base_uri": "https://localhost:8080/"
        },
        "id": "Uv_2Jbe1WPGF",
        "outputId": "8fc7f18d-f628-4c7c-90a7-1bd1d70ae68e"
      },
      "source": [
        "# Definsikan fungsi dengan nilai default argument kedua adalah \"\".\n",
        "def fungsi_dengan_argumen(nama_depan, nama_belakang=\"\"):\n",
        "    print(nama_depan+\" \"+nama_belakang)\n",
        "# Panggil fungsi dengan memasukkan argumen nama_depan \"John\"\n",
        "fungsi_dengan_argumen(\"John\")\n",
        "# Panggil fungsi dengan memasukkan argumen\n",
        "# nama_depan yaitu \"John\" dan nama_belakang \"Doe\"\n",
        "fungsi_dengan_argumen(\"John\", \"Doe\")"
      ],
      "execution_count": 23,
      "outputs": [
        {
          "output_type": "stream",
          "text": [
            "John \n",
            "John Doe\n"
          ],
          "name": "stdout"
        }
      ]
    },
    {
      "cell_type": "markdown",
      "metadata": {
        "id": "qxZ2RQhuV6nO"
      },
      "source": [
        "**Tugas Praktek**"
      ]
    },
    {
      "cell_type": "code",
      "metadata": {
        "colab": {
          "base_uri": "https://localhost:8080/"
        },
        "id": "jdFJ133lWYSe",
        "outputId": "095123a5-b13e-4d10-f823-da33d2827e54"
      },
      "source": [
        "# Dua buah data yang tersimpan dalam tipe list\n",
        "data1 = [70, 70, 70, 100, 100, 100, 120, 120, 150, 150]\n",
        "data2 = [50, 60, 60, 50, 70, 70, 100, 80, 100, 90]\n",
        "# Definisikan fungsi hitng_rata_rata\n",
        "def hitung_rata_rata(data):\n",
        "    jumlah = 0\n",
        "    for item in data:\n",
        "        jumlah += item\n",
        "    rata_rata = jumlah/len(data)\n",
        "    return rata_rata\n",
        "# Hitung nilai rata-rata dari kedua data yang dimiliki\n",
        "print('Rata-rata data1:')\n",
        "print(hitung_rata_rata(data1))\n",
        "print('Rata-rata data2:')\n",
        "print(hitung_rata_rata(data2))"
      ],
      "execution_count": 24,
      "outputs": [
        {
          "output_type": "stream",
          "text": [
            "Rata-rata data1:\n",
            "105.0\n",
            "Rata-rata data2:\n",
            "73.0\n"
          ],
          "name": "stdout"
        }
      ]
    },
    {
      "cell_type": "code",
      "metadata": {
        "colab": {
          "base_uri": "https://localhost:8080/"
        },
        "id": "BXRp1yR9Wkrr",
        "outputId": "e7ad22f7-c356-4de8-ef1f-705e32f0f54b"
      },
      "source": [
        "# Fungsi rata-rata data\n",
        "def hitung_rata_rata(data):\n",
        "    jumlah = 0\n",
        "    for item in data:\n",
        "        jumlah += item\n",
        "    rata_rata = jumlah/len(data)\n",
        "    return rata_rata\n",
        "\n",
        "# Definisikan fungsi hitung_standar_deviasi\n",
        "def hitung_standar_deviasi(data):\n",
        "    rata_rata_data = hitung_rata_rata(data)\n",
        "    varians = 0\n",
        "    for item in data:\n",
        "        varians += (item - rata_rata_data) ** 2\n",
        "    varians /= len(data)\n",
        "    standar_deviasi = varians ** (1/2)\n",
        "    return standar_deviasi\n",
        "    \n",
        "# Hitung nilai standar deviasi dari kedua data yang dimiliki\n",
        "print('Standar deviasi data1:')\n",
        "print(hitung_standar_deviasi(data1))\n",
        "print('Standar deviasi data2:')\n",
        "print(hitung_standar_deviasi(data2))"
      ],
      "execution_count": 25,
      "outputs": [
        {
          "output_type": "stream",
          "text": [
            "Standar deviasi data1:\n",
            "28.722813232690143\n",
            "Standar deviasi data2:\n",
            "17.916472867168917\n"
          ],
          "name": "stdout"
        }
      ]
    },
    {
      "cell_type": "code",
      "metadata": {
        "colab": {
          "base_uri": "https://localhost:8080/"
        },
        "id": "h1W97VmSWswr",
        "outputId": "1a7d5221-6a0d-4350-9463-170c28e26b76"
      },
      "source": [
        "# Data properti\n",
        "tabel_properti = {\n",
        "'luas_tanah': [70, 70, 70, 100, 100, 100, 120, 120, 150, 150],\n",
        "'luas_bangunan': [50, 60, 60, 50, 70, 70, 100, 80, 100, 90],\n",
        "'jarak': [15, 30, 55, 30, 25, 50, 20, 50, 50, 15],\n",
        "'harga': [500, 400, 300, 700, 1000, 650, 2000, 1200, 1800, 3000]\n",
        "}\n",
        "\n",
        "# Fungsi rata-rata data\n",
        "def hitung_rata_rata(data):\n",
        "    jumlah = 0\n",
        "    for item in data:\n",
        "        jumlah += item\n",
        "    rata_rata = jumlah/len(data)\n",
        "    return rata_rata\n",
        "\n",
        "# Fungsi hitung_standar_deviasi\n",
        "def hitung_standar_deviasi(data):\n",
        "    rata_rata_data = hitung_rata_rata(data)\n",
        "    varians = 0\n",
        "    for item in data:\n",
        "        varians += (item - rata_rata_data) ** 2\n",
        "        varians /= len(data)\n",
        "    standar_deviasi = varians ** (1/2)\n",
        "    return standar_deviasi\n",
        "\n",
        "# Definisikan fungsi untuk menghitung rata-rata dan standar deviasi\n",
        "# setiap kolom pada tabel_properti yang diberikan oleh key dict.\n",
        "def deskripsi_properti(tabel):\n",
        "    for key in tabel.keys():\n",
        "        print('Rata-rata ' + key + ':')\n",
        "        print(hitung_rata_rata(tabel[key])) \n",
        "        print('Standar deviasi ' + key + ':')\n",
        "        print(hitung_standar_deviasi(tabel[key]))\n",
        "        print('')\n",
        "        \n",
        "# Panggil fungsi deskripsi_properti untuk menghitung rata-rata \n",
        "# dan standar deviasi setiap kolom pada tabel_properti\n",
        "deskripsi_properti(tabel_properti)"
      ],
      "execution_count": 26,
      "outputs": [
        {
          "output_type": "stream",
          "text": [
            "Rata-rata luas_tanah:\n",
            "105.0\n",
            "Standar deviasi luas_tanah:\n",
            "14.93311056335886\n",
            "\n",
            "Rata-rata luas_bangunan:\n",
            "73.0\n",
            "Standar deviasi luas_bangunan:\n",
            "6.025948374480153\n",
            "\n",
            "Rata-rata jarak:\n",
            "34.0\n",
            "Standar deviasi jarak:\n",
            "6.24005184770928\n",
            "\n",
            "Rata-rata harga:\n",
            "1155.0\n",
            "Standar deviasi harga:\n",
            "587.0594351517378\n",
            "\n"
          ],
          "name": "stdout"
        }
      ]
    },
    {
      "cell_type": "markdown",
      "metadata": {
        "id": "8QWIkpXkW05Q"
      },
      "source": [
        "**Membaca Berkas Teks**"
      ]
    },
    {
      "cell_type": "code",
      "metadata": {
        "colab": {
          "base_uri": "https://localhost:8080/"
        },
        "id": "U9IPs3IOW9F9",
        "outputId": "81876696-2f19-421a-98e1-ee7b53301801"
      },
      "source": [
        "# Membaca file hello.txt dengan fungsi read()\n",
        "print(\">>> Membaca file hello.txt dengan fungsi read()\")\n",
        "file = open(\"/content/sample_data/hello.txt\", \"r\")\n",
        "content = file.read()\n",
        "file.close()\n",
        "print(content)\n",
        "\n",
        "# Membaca file hello.txt dengan fungsi readline()\n",
        "print(\">>> Membaca file hello.txt dengan fungsi readline()\")\n",
        "file = open(\"/content/sample_data/hello.txt\", \"r\")\n",
        "first_line = file.readline()\n",
        "second_line = file.readline()\n",
        "file.close()\n",
        "print(first_line)\n",
        "print(second_line)"
      ],
      "execution_count": 27,
      "outputs": [
        {
          "output_type": "stream",
          "text": [
            ">>> Membaca file hello.txt dengan fungsi read()\n",
            "Aku sedang belajar Python\n",
            "Tepatnya belajar memanipulasi berkas teks\n",
            "Memanipulasi berkas dengan Python sangatlah mudah!\n",
            ">>> Membaca file hello.txt dengan fungsi readline()\n",
            "Aku sedang belajar Python\n",
            "\n",
            "Tepatnya belajar memanipulasi berkas teks\n",
            "\n"
          ],
          "name": "stdout"
        }
      ]
    },
    {
      "cell_type": "code",
      "metadata": {
        "colab": {
          "base_uri": "https://localhost:8080/"
        },
        "id": "NENUo1y_Yx4Q",
        "outputId": "a61c32e1-c381-4bf4-be3a-ff72228afa53"
      },
      "source": [
        "# Membaca file hello.txt dengan fungsi readlines()\n",
        "print(\">>> Membaca file hello.txt dengan fungsi readlines()\")\n",
        "file = open(\"/content/sample_data/hello.txt\", \"r\")\n",
        "all_lines = file.readlines()\n",
        "file.close()\n",
        "print(all_lines)\n",
        "\n",
        "# Membaca file hello.txt dengan menerapkan looping\n",
        "print(\">>> Membaca file hello.txt dengan menerapkan looping\")\n",
        "file = open(\"/content/sample_data/hello.txt\", \"r\")\n",
        "for line in file:\n",
        "    print(line)"
      ],
      "execution_count": 28,
      "outputs": [
        {
          "output_type": "stream",
          "text": [
            ">>> Membaca file hello.txt dengan fungsi readlines()\n",
            "['Aku sedang belajar Python\\n', 'Tepatnya belajar memanipulasi berkas teks\\n', 'Memanipulasi berkas dengan Python sangatlah mudah!']\n",
            ">>> Membaca file hello.txt dengan menerapkan looping\n",
            "Aku sedang belajar Python\n",
            "\n",
            "Tepatnya belajar memanipulasi berkas teks\n",
            "\n",
            "Memanipulasi berkas dengan Python sangatlah mudah!\n"
          ],
          "name": "stdout"
        }
      ]
    },
    {
      "cell_type": "markdown",
      "metadata": {
        "id": "Cy_qXB2qYvTM"
      },
      "source": [
        "**Menulis Berkas Teks**"
      ]
    },
    {
      "cell_type": "code",
      "metadata": {
        "id": "0MiJ3CmOY_ZO"
      },
      "source": [
        "# Menulis ke file hello.txt\n",
        "file = open(\"/content/sample_data/hello.txt\", \"w\")\n",
        "file.write(\"Sekarang kita belajar menulis dengan menggunakan Python\")\n",
        "file.write(\"Menulis konten file dengan mode w (write).\")\n",
        "file.close()"
      ],
      "execution_count": 29,
      "outputs": []
    },
    {
      "cell_type": "code",
      "metadata": {
        "id": "3TpfIXztZHbB"
      },
      "source": [
        "# Menulis ke file dengan mode append\n",
        "file = open(\"/content/sample_data/hello.txt\", \"a\")\n",
        "file.writelines([\n",
        "\"Sekarang kita belajar menulis dengan menggunakan Python\\n\", \n",
        "\"Menulis konten file dengan mode a (append).\"\n",
        "])\n",
        "file.close()"
      ],
      "execution_count": 30,
      "outputs": []
    },
    {
      "cell_type": "markdown",
      "metadata": {
        "id": "KSJ0rOc3ZYL-"
      },
      "source": [
        "**Fungsi dalam Library Matematika**"
      ]
    },
    {
      "cell_type": "code",
      "metadata": {
        "colab": {
          "base_uri": "https://localhost:8080/"
        },
        "id": "RbstkdUXZZ2v",
        "outputId": "458dbaec-4126-4f68-86ed-d1554f52ad8d"
      },
      "source": [
        "# Import library math\n",
        "import math\n",
        "\n",
        "# Fungsi math.ceil()\n",
        "print(\">>> Fungsi math.ceil()\")\n",
        "x = 10.32\n",
        "y = 13.87\n",
        "x_ceil = math.ceil(x)\n",
        "y_ceil = math.ceil(y)\n",
        "print(x_ceil)\n",
        "print(y_ceil)\n",
        "\n",
        "# Fungsi math.floor()\n",
        "print(\">>> Fungsi math.floor()\")\n",
        "x_floor = math.floor(x)\n",
        "y_floor = math.floor(y)\n",
        "print(x_floor)\n",
        "print(y_floor)\n",
        "\n",
        "# Fungsi math.fabs()\n",
        "print(\">>> Fungsi math.fabs()\")\n",
        "x = 10.32\n",
        "y = -13.87\n",
        "x = math.fabs(x)\n",
        "y = math.fabs(y)\n",
        "print(x)\n",
        "print(y)\n",
        "\n",
        "# Fungsi math.factorial()\n",
        "print(\">>> Fungsi math.factorial()\")\n",
        "x_factorial = math.factorial(5)\n",
        "print(x_factorial)\n",
        "\n",
        "# Fungsi math.fsum()\n",
        "print(\">>> Fungsi math.fsum()\")\n",
        "x = [1, 2, 3, 4, 5, 6, -6, -5, -4]\n",
        "total = math.fsum(x)\n",
        "print(total)"
      ],
      "execution_count": 31,
      "outputs": [
        {
          "output_type": "stream",
          "text": [
            ">>> Fungsi math.ceil()\n",
            "11\n",
            "14\n",
            ">>> Fungsi math.floor()\n",
            "10\n",
            "13\n",
            ">>> Fungsi math.fabs()\n",
            "10.32\n",
            "13.87\n",
            ">>> Fungsi math.factorial()\n",
            "120\n",
            ">>> Fungsi math.fsum()\n",
            "6.0\n"
          ],
          "name": "stdout"
        }
      ]
    },
    {
      "cell_type": "markdown",
      "metadata": {
        "id": "LFJnGF0wZjLJ"
      },
      "source": [
        "**Mini Quiz - Harga Rumah di Tangerang**"
      ]
    },
    {
      "cell_type": "code",
      "metadata": {
        "colab": {
          "base_uri": "https://localhost:8080/"
        },
        "id": "B2C7ab83Zpjr",
        "outputId": "61edefc8-bb6f-49bd-ad3a-0782c3672780"
      },
      "source": [
        "# STEP 1: \n",
        "# Baca file \"harga_rumah.txt\"\n",
        "file_harga_rumah = open(\"/content/sample_data/harga_rumah.txt\", \"r\")\n",
        "data_harga_rumah = file_harga_rumah.readlines()\n",
        "file_harga_rumah.close()\n",
        "# Buat list of dict dengan nama harga rumah\n",
        "key_harga_rumah = data_harga_rumah[0].replace(\"\\n\",\"\").split(\",\")\n",
        "harga_rumah = []\n",
        "for baris in data_harga_rumah[1:]:\n",
        "    baris_harga_rumah = baris.replace(\"\\n\",\"\").split(\",\")\n",
        "    dict_harga_rumah = dict()\n",
        "    for i in range(len(baris_harga_rumah)):\n",
        "        dict_harga_rumah[key_harga_rumah[i]] = baris_harga_rumah[i]\n",
        "    harga_rumah.append(dict_harga_rumah)\n",
        "print(harga_rumah)\n",
        "\n",
        "# STEP 2:\n",
        "# Buat fungsi  get_all_specified_attribute yang menerima parameter list_of_dictionary \n",
        "# (tipe data list yang berisikan sekumpulan tipe data dictionary) dan specified_key \n",
        "# (tipe data string). Fungsi akan mengembalikan sebuah list yang berisikan seluruh \n",
        "# atribut dengan kunci (key) specified_key. \n",
        "def get_all_specified_attributes(list_of_dictionary, specified_key):\n",
        "    list_attributes = []\n",
        "    for data in list_of_dictionary:\n",
        "        attribute = data[specified_key]\n",
        "        list_attributes.append(attribute)\n",
        "    return list_attributes\n",
        "\n",
        "# STEP 3: \n",
        "# Buat fungsi fungsi min_value yang menerima parameter list_attributes (berupa \n",
        "# tipe data list) dan mengembalikan nilai terkecil dalam list_attributes \n",
        "def min_value(list_attributes):\n",
        "    min_attribute = 9999\n",
        "    for attr in list_attributes:\n",
        "        if int(attr) < min_attribute:\n",
        "            min_attribute = int(attr)\n",
        "    return min_attribute\n",
        "# Buat fungsi dan max_value yang menerima parameter list_attribute dan mengembalikan nilai terbesar dalam list_attributes.\n",
        "def max_value(list_attributes):\n",
        "    max_attribute = -9999\n",
        "    for attr in list_attributes:\n",
        "        if int(attr) > max_attribute:\n",
        "            max_attribute = int(attr)\n",
        "    return max_attribute\n",
        "\n",
        "# STEP 4: \n",
        "# Buat fungsi transform_attribute yang menerima parameter attr (sebuah \n",
        "# bilangan), max_attr (sebuah bilangan) dan min_attr (sebuah bilangan) \n",
        "# yang mengembalikan nilai transformasi dari sebuah attribute.\n",
        "def transform_attribute(attr, max_attr, min_attr):\n",
        "    nilai_transformasi = (attr - min_attr) / (max_attr - min_attr)\n",
        "    return nilai_transformasi\n",
        "\n",
        "# STEP 5:\n",
        "# Buat fungsi data_transformation yang menerima parameter list_of_dictionary \n",
        "# (sebuah list yang berisikan tipe data dictionary) dan list_attribute_names \n",
        "# (sebuah list yang berisikan tipe data string) mengembalikan hasil \n",
        "# transformasi data dari list_of_dictionary berdasarkan list_attribute_names \n",
        "# dan attr_info telah dispesifikasikan.\n",
        "def data_transformation(list_of_dictionary, list_attribute_names):\n",
        "    attr_info = {}\n",
        "    for attr_name in list_attribute_names:\n",
        "        specified_attributes = get_all_specified_attributes(list_of_dictionary, attr_name)\n",
        "        max_attr = max_value(specified_attributes)\n",
        "        min_attr = min_value(specified_attributes)\n",
        "        attr_info[attr_name] = {'max': max_attr, 'min': min_attr}\n",
        "        data_idx = 0\n",
        "        while(data_idx < len(list_of_dictionary)):\n",
        "            list_of_dictionary[data_idx][attr_name] = transform_attribute(int(list_of_dictionary[data_idx][attr_name]), max_attr, min_attr)\n",
        "            data_idx += 1\n",
        "    return list_of_dictionary, attr_info\n",
        "\n",
        "# STEP 6:\n",
        "# Berdasarkan data baru dan attr_info ini, buat fungsi transform_data yang\n",
        "# menerima parameter data dan attr_info dan mengembalikan nilai atribut \n",
        "# dari data baru yang telah ditransformasikan.\n",
        "def transform_data(data, attr_info):\n",
        "    for key_name in data.keys():\n",
        "        data[key_name] = (data[key_name] - attr_info[key_name]['min']) / (\n",
        "                          attr_info[key_name]['max'] - attr_info[key_name]['min'])\n",
        "    return data\n",
        "\n",
        "# STEP 7:\n",
        "# Buat fungsi yang digunakan untuk sistem prediksi harga berdasarkan \n",
        "# nilai kemiripan atribut, yaitu argument input data dan list_of_data!\n",
        "def abs_value(value):\n",
        "    if value < 0:\n",
        "        return -value\n",
        "    else:\n",
        "        return value\n",
        "def price_based_on_similarity(data, list_of_data):\n",
        "    prediksi_harga = 0\n",
        "    perbedaan_terkecil = 999\n",
        "    for data_point in list_of_data:\n",
        "        perbedaan= abs_value(data['tanah'] - data_point['tanah'])\n",
        "        perbedaan+= abs_value(data['bangunan'] - data_point['bangunan'])\n",
        "        perbedaan+= abs_value(data['jarak_ke_pusat'] - data_point['jarak_ke_pusat'])\n",
        "        if perbedaan < perbedaan_terkecil:\n",
        "            prediksi_harga = data_point['harga']\n",
        "            perbedaan_terkecil = perbedaan\n",
        "    return prediksi_harga\n",
        "\n",
        "# STEP 8:\n",
        "# Hitung harga rumah yang telah ditransformasikan ke dalam variabel \n",
        "# harga_rumah berikut dengan atributnya attr_info\n",
        "harga_rumah, attr_info = data_transformation(harga_rumah,\n",
        "                                             ['tanah','bangunan','jarak_ke_pusat'])\n",
        "# Gunakan variabel data untuk memprediksi harga rumah\n",
        "data = {'tanah': 110, 'bangunan': 80, 'jarak_ke_pusat': 35}\n",
        "# Transformasikan data tersebut dengan dengan menggunakan attr_info yang telah \n",
        "# diperoleh yang kembali disimpan ke variabel data.\n",
        "data = transform_data(data, attr_info)\n",
        "# Hitunglah prediksi harga dari variabel data tersebut.\n",
        "harga = price_based_on_similarity(data, harga_rumah)\n",
        "print(\"Prediksi harga rumah: \", harga)"
      ],
      "execution_count": 32,
      "outputs": [
        {
          "output_type": "stream",
          "text": [
            "[{'tanah': '70', 'bangunan': '50', 'jarak_ke_pusat': '15', 'harga': '500'}, {'tanah': '70', 'bangunan': '60', 'jarak_ke_pusat': '30', 'harga': '400'}, {'tanah': '70', 'bangunan': '60', 'jarak_ke_pusat': '55', 'harga': '300'}, {'tanah': '100', 'bangunan': '50', 'jarak_ke_pusat': '30', 'harga': '700'}, {'tanah': '100', 'bangunan': '70', 'jarak_ke_pusat': '25', 'harga': '1000'}, {'tanah': '100', 'bangunan': '70', 'jarak_ke_pusat': '50', 'harga': '650'}, {'tanah': '120', 'bangunan': '100', 'jarak_ke_pusat': '20', 'harga': '2000'}, {'tanah': '120', 'bangunan': '80', 'jarak_ke_pusat': '50', 'harga': '1200'}, {'tanah': '150', 'bangunan': '100', 'jarak_ke_pusat': '50', 'harga': '1800'}, {'tanah': '150', 'bangunan': '90', 'jarak_ke_pusat': '15', 'harga': '3000'}]\n",
            "Prediksi harga rumah:  1200\n"
          ],
          "name": "stdout"
        }
      ]
    }
  ]
}